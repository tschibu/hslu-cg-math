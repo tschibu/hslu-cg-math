{
 "cells": [
  {
   "cell_type": "code",
   "execution_count": 1,
   "metadata": {},
   "outputs": [
    {
     "name": "stdout",
     "output_type": "stream",
     "text": [
      "Punkte Matrix Source r\n",
      "--------------------\n",
      "[[1 4 3 2]\n",
      " [1 1 4 4]\n",
      " [1 1 1 1]]\n",
      "\n",
      "\n",
      "perspektivische Verzerrung n\n",
      "----------------------------\n",
      "[[ 0.82 -0.45  0.45]\n",
      " [ 0.    0.09  0.73]\n",
      " [ 0.   -0.18  1.  ]]\n",
      "\n",
      "\n",
      "*************\n",
      "* Kontrolle *\n",
      "*************\n",
      "homohene Matrix\n",
      "---------------\n",
      "[[0.81818182 3.27272727 1.09090909 0.27272727]\n",
      " [0.81818182 0.81818182 1.09090909 1.09090909]\n",
      " [0.81818182 0.81818182 0.27272727 0.27272727]]\n",
      "\n",
      "\n",
      "Koordinaten R'\n",
      "---------------\n",
      "[[1. 4. 4. 1.]\n",
      " [1. 1. 4. 4.]]\n"
     ]
    }
   ],
   "source": [
    "import numpy as np\n",
    "PunkteMatrixR = np.array([\n",
    "    [1,4,3,2],\n",
    "    [1,1,4,4],\n",
    "    [1,1,1,1]\n",
    "])\n",
    "\n",
    "perspektivischeVerzerrungMatrixN = np.array([\n",
    "    [(9/11),(-5/11),(5/11)],\n",
    "    [0,(1/11),(8/11)],\n",
    "    [0,(-2/11),1],\n",
    "])\n",
    "\n",
    "print(\"Punkte Matrix Source r\")\n",
    "print(\"--------------------\")\n",
    "print(PunkteMatrixR)\n",
    "print(\"\\n\")\n",
    "\n",
    "print(\"perspektivische Verzerrung n\")\n",
    "print(\"----------------------------\")\n",
    "print(perspektivischeVerzerrungMatrixN.round(2))\n",
    "print(\"\\n\")\n",
    "\n",
    "print(\"*************\")\n",
    "print(\"* Kontrolle *\")\n",
    "print(\"*************\")\n",
    "homogenenMatrixRStrich = np.dot(perspektivischeVerzerrungMatrixN,PunkteMatrixR)\n",
    "print(\"homohene Matrix\")\n",
    "print(\"---------------\")\n",
    "print(homogenenMatrixRStrich)\n",
    "print(\"\\n\")\n",
    "\n",
    "print(\"Koordinaten R'\")\n",
    "print(\"---------------\")\n",
    "Koordinaten = np.array([homogenenMatrixRStrich[0] / homogenenMatrixRStrich[2], homogenenMatrixRStrich[1]/homogenenMatrixRStrich[2]])\n",
    "print(Koordinaten)\n"
   ]
  },
  {
   "cell_type": "markdown",
   "metadata": {},
   "source": [
    "## Uebung 2 - Aufgabe 4"
   ]
  },
  {
   "cell_type": "code",
   "execution_count": 2,
   "metadata": {},
   "outputs": [
    {
     "name": "stdout",
     "output_type": "stream",
     "text": [
      "Resultat\n",
      "--------\n",
      "[[1.   0.   0.  ]\n",
      " [0.   1.   0.  ]\n",
      " [0.   0.   0.67]]\n"
     ]
    }
   ],
   "source": [
    "H = np.array([\n",
    "    [1.5,0,-1.5],\n",
    "    [0,1.5,0.5],\n",
    "    [0,0,1]\n",
    "])\n",
    "\n",
    "T = np.array([\n",
    "    [1,0,1],\n",
    "    [0,1,(-1/3)],\n",
    "    [0,0,1]\n",
    "])\n",
    "\n",
    "Streckungsfaktor = 1.5\n",
    "\n",
    "print(\"Resultat\")\n",
    "print(\"--------\")\n",
    "\n",
    "result = np.dot(H, T/Streckungsfaktor)\n",
    "print(result.round(2))"
   ]
  },
  {
   "cell_type": "markdown",
   "metadata": {},
   "source": [
    "Streckungsfaktor = 1.5\n",
    "\n",
    "Zentrum = (1, (-1/3)"
   ]
  },
  {
   "cell_type": "code",
   "execution_count": 3,
   "metadata": {},
   "outputs": [
    {
     "name": "stdout",
     "output_type": "stream",
     "text": [
      "[[ 1.          0.         -1.        ]\n",
      " [ 0.          1.          0.33333333]\n",
      " [ 0.          0.          0.66666667]]\n",
      "[[1.         0.         0.        ]\n",
      " [0.         1.         0.        ]\n",
      " [0.         0.         0.66666667]]\n"
     ]
    }
   ],
   "source": [
    "H = np.array([\n",
    "    [1.5, 0, -1.5],\n",
    "    [0, 1.5, 0.5],\n",
    "    [0,0,1]\n",
    "])\n",
    "\n",
    "T = np.array([\n",
    "    [1, 0, 1],\n",
    "    [0, 1, -1/3],\n",
    "    [0,0,1]\n",
    "])\n",
    "\"Result: H\"\n",
    "print(H/1.5)\n",
    "\n",
    "\"Result: T\"\n",
    "print(np.dot(H/1.5, T))"
   ]
  },
  {
   "cell_type": "code",
   "execution_count": 4,
   "metadata": {},
   "outputs": [
    {
     "name": "stdout",
     "output_type": "stream",
     "text": [
      "[[ 1.          0.         -1.        ]\n",
      " [ 0.          1.          0.33333333]\n",
      " [ 0.          0.          0.66666667]]\n"
     ]
    }
   ],
   "source": [
    "H = np.array([\n",
    "    [1.5, 0, -1.5],\n",
    "    [0, 1.5, 0.5],\n",
    "    [0,0,1]\n",
    "])\n",
    "\"Result: H\"\n",
    "print(H/1.5)"
   ]
  },
  {
   "cell_type": "markdown",
   "metadata": {},
   "source": [
    "(2 * h1 + 4 * h2 + 1 * h3) / (2 * h7 + 4 * h8 + 1 * h9) = 1\n",
    "\n",
    "=> 2 * h1 + 4 * h2 + 1 * h3 = 1 * (2 * h7 + 4 * h8 + 1 * h9)\n",
    "\n",
    "=> 2 * h1 + 4 * h2 + 1 * h3 = 2 * h7 + 4 * h8 + 1 * h9\n",
    "\n",
    "=> 2 * h1 + 4 * h2 + 1 * h3 - 2 * h7 - 4 * h8 = 1 * h9\n",
    "\n",
    "G7: => 2 * h1 + 4 * h2 + 1 * h3 - 2 * h7 - 4 * h8 = 1\n",
    "anstelle: \n",
    "G7: => 2 * h1 + 4 * h2 + 1 * h3 - 2 * h7 - 4 * h8 = 4"
   ]
  }
 ],
 "metadata": {
  "kernelspec": {
   "display_name": "Python 3",
   "language": "python",
   "name": "python3"
  },
  "language_info": {
   "codemirror_mode": {
    "name": "ipython",
    "version": 3
   },
   "file_extension": ".py",
   "mimetype": "text/x-python",
   "name": "python",
   "nbconvert_exporter": "python",
   "pygments_lexer": "ipython3",
   "version": "3.6.4"
  }
 },
 "nbformat": 4,
 "nbformat_minor": 2
}
