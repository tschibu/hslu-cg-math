{
 "cells": [
  {
   "cell_type": "code",
   "execution_count": 20,
   "metadata": {},
   "outputs": [
    {
     "name": "stdout",
     "output_type": "stream",
     "text": [
      "Punkte Matrix Source r\n",
      "--------------------\n",
      "[[1 4 3 2]\n",
      " [1 1 4 4]\n",
      " [1 1 1 1]]\n",
      "\n",
      "\n",
      "perspektivische Verzerrung n\n",
      "----------------------------\n",
      "[[ 1. -0.  0.]\n",
      " [ 0.  0.  1.]\n",
      " [ 0. -0.  1.]]\n",
      "\n",
      "\n",
      "*************\n",
      "* Kontrolle *\n",
      "*************\n",
      "homohene Matrix\n",
      "---------------\n",
      "[[1. 3. 1. 0.]\n",
      " [1. 1. 1. 1.]\n",
      " [1. 1. 0. 0.]]\n",
      "\n",
      "\n",
      "Koordinaten R'\n",
      "---------------\n",
      "[[1. 4. 4. 1.]\n",
      " [1. 1. 4. 4.]]\n"
     ]
    }
   ],
   "source": [
    "import numpy as np\n",
    "PunkteMatrixR = np.array([\n",
    "    [1,4,3,2],\n",
    "    [1,1,4,4],\n",
    "    [1,1,1,1]\n",
    "])\n",
    "\n",
    "perspektivischeVerzerrungMatrixN = np.array([\n",
    "    [(9/11),(-5/11),(5/11)],\n",
    "    [0,(1/11),(8/11)],\n",
    "    [0,(-2/11),1],\n",
    "])\n",
    "\n",
    "print(\"Punkte Matrix Source r\")\n",
    "print(\"--------------------\")\n",
    "print(PunkteMatrixR)\n",
    "print(\"\\n\")\n",
    "\n",
    "print(\"perspektivische Verzerrung n\")\n",
    "print(\"----------------------------\")\n",
    "print(perspektivischeVerzerrungMatrixN.round(2))\n",
    "print(\"\\n\")\n",
    "\n",
    "print(\"*************\")\n",
    "print(\"* Kontrolle *\")\n",
    "print(\"*************\")\n",
    "homogenenMatrixRStrich = np.dot(perspektivischeVerzerrungMatrixN,PunkteMatrixR)\n",
    "print(\"homohene Matrix\")\n",
    "print(\"---------------\")\n",
    "print(homogenenMatrixRStrich)\n",
    "print(\"\\n\")\n",
    "\n",
    "print(\"Koordinaten R'\")\n",
    "print(\"---------------\")\n",
    "Koordinaten = np.array([homogenenMatrixRStrich[0] / homogenenMatrixRStrich[2], homogenenMatrixRStrich[1]/homogenenMatrixRStrich[2]])\n",
    "print(Koordinaten)\n"
   ]
  },
  {
   "cell_type": "markdown",
   "metadata": {},
   "source": [
    "## Uebung 2 - Aufgabe 4"
   ]
  },
  {
   "cell_type": "code",
   "execution_count": 21,
   "metadata": {},
   "outputs": [
    {
     "name": "stdout",
     "output_type": "stream",
     "text": [
      "Resultat\n",
      "--------\n",
      "[[1. 0. 0.]\n",
      " [0. 1. 0.]\n",
      " [0. 0. 1.]]\n"
     ]
    }
   ],
   "source": [
    "H = np.array([\n",
    "    [1.5,0,-1.5],\n",
    "    [0,1.5,0.5],\n",
    "    [0,0,1]\n",
    "])\n",
    "\n",
    "T = np.array([\n",
    "    [1,0,1],\n",
    "    [0,1,(-1/3)],\n",
    "    [0,0,1]\n",
    "])\n",
    "\n",
    "Streckungsfaktor = 1.5\n",
    "\n",
    "print(\"Resultat\")\n",
    "print(\"--------\")\n",
    "\n",
    "result = np.dot(H, T/Streckungsfaktor)\n",
    "print(result.round(2))"
   ]
  },
  {
   "cell_type": "markdown",
   "metadata": {},
   "source": [
    "Streckungsfaktor = 1.5\n",
    "\n",
    "Zentrum = (1, (-1/3)"
   ]
  },
  {
   "cell_type": "code",
   "execution_count": 22,
   "metadata": {},
   "outputs": [
    {
     "name": "stdout",
     "output_type": "stream",
     "text": [
      "[[ 1.  0. -1.]\n",
      " [ 0.  1.  0.]\n",
      " [ 0.  0.  1.]]\n",
      "[[1. 0. 0.]\n",
      " [0. 1. 0.]\n",
      " [0. 0. 1.]]\n"
     ]
    }
   ],
   "source": [
    "H = np.array([\n",
    "    [1.5, 0, -1.5],\n",
    "    [0, 1.5, 0.5],\n",
    "    [0,0,1]\n",
    "])\n",
    "\n",
    "T = np.array([\n",
    "    [1, 0, 1],\n",
    "    [0, 1, -1/3],\n",
    "    [0,0,1]\n",
    "])\n",
    "\"Result: H\"\n",
    "print(H/1.5)\n",
    "\n",
    "\"Result: T\"\n",
    "print(np.dot(H/1.5, T))"
   ]
  },
  {
   "cell_type": "code",
   "execution_count": 23,
   "metadata": {},
   "outputs": [
    {
     "name": "stdout",
     "output_type": "stream",
     "text": [
      "[[ 1.  0. -1.]\n",
      " [ 0.  1.  0.]\n",
      " [ 0.  0.  1.]]\n"
     ]
    }
   ],
   "source": [
    "H = np.array([\n",
    "    [1.5, 0, -1.5],\n",
    "    [0, 1.5, 0.5],\n",
    "    [0,0,1]\n",
    "])\n",
    "\"Result: H\"\n",
    "print(H/1.5)"
   ]
  },
  {
   "cell_type": "markdown",
   "metadata": {},
   "source": [
    "(2 * h1 + 4 * h2 + 1 * h3) / (2 * h7 + 4 * h8 + 1 * h9) = 1\n",
    "\n",
    "=> 2 * h1 + 4 * h2 + 1 * h3 = 1 * (2 * h7 + 4 * h8 + 1 * h9)\n",
    "\n",
    "=> 2 * h1 + 4 * h2 + 1 * h3 = 2 * h7 + 4 * h8 + 1 * h9\n",
    "\n",
    "=> 2 * h1 + 4 * h2 + 1 * h3 - 2 * h7 - 4 * h8 = 1 * h9\n",
    "\n",
    "G7: => 2 * h1 + 4 * h2 + 1 * h3 - 2 * h7 - 4 * h8 = 1\n",
    "anstelle: \n",
    "G7: => 2 * h1 + 4 * h2 + 1 * h3 - 2 * h7 - 4 * h8 = 4"
   ]
  },
  {
   "cell_type": "markdown",
   "metadata": {},
   "source": [
    "# Projektive Geometrie\n",
    "## Aufgabe Page 15/55"
   ]
  },
  {
   "cell_type": "code",
   "execution_count": 37,
   "metadata": {},
   "outputs": [
    {
     "name": "stdout",
     "output_type": "stream",
     "text": [
      "\n",
      "Translationsmatrix T\n",
      "--------------------\n",
      "[[1 0 0 1]\n",
      " [0 1 0 1]\n",
      " [0 0 1 1]\n",
      " [0 0 0 1]]\n",
      "\n",
      "Inverse Translationsmatrix TInverse\n",
      "-----------------------------------\n",
      "[[ 1  0  0 -1]\n",
      " [ 0  1  0 -1]\n",
      " [ 0  0  1 -1]\n",
      " [ 0  0  0  1]]\n",
      " --> Proof\n",
      "[[ 1.  0.  0. -1.]\n",
      " [ 0.  1.  0. -1.]\n",
      " [ 0.  0.  1. -1.]\n",
      " [ 0.  0.  0.  1.]]\n",
      "\n",
      "Kontrolle Translationsmatrix * Inverse Translationsmatrix\n",
      "---------------------------------------------------------\n",
      "[[1 0 0 0]\n",
      " [0 1 0 0]\n",
      " [0 0 1 0]\n",
      " [0 0 0 1]]\n",
      " --> Proof\n",
      "[[1. 0. 0. 0.]\n",
      " [0. 1. 0. 0.]\n",
      " [0. 0. 1. 0.]\n",
      " [0. 0. 0. 1.]]\n",
      "\n",
      "Neue Koordinaten P' (mit T)\n",
      "-------------------\n",
      "[2 2 1 1]\n",
      "\n",
      "Neue Koordinaten P' (mit TInverse)\n",
      "-------------------\n",
      "[ 0  0 -1  1]\n"
     ]
    }
   ],
   "source": [
    "import numpy as np\n",
    "T = np.array([\n",
    "    [1,0,0,1],\n",
    "    [0,1,0,1],\n",
    "    [0,0,1,1],\n",
    "    [0,0,0,1]\n",
    "])\n",
    "TInverse = np.array([\n",
    "    [1,0,0,-1],\n",
    "    [0,1,0,-1],\n",
    "    [0,0,1,-1],\n",
    "    [0,0,0,1]\n",
    "])\n",
    "TInverseProof = np.linalg.inv(T)\n",
    "Tidentity = np.dot(T,TInverse)\n",
    "TidentityProof =np.identity(4)\n",
    "\n",
    "P = np.array([1,1,0,1])\n",
    "\n",
    "print(\"\\nTranslationsmatrix T\")\n",
    "print(\"--------------------\")\n",
    "print(T,)\n",
    "\n",
    "print(\"\\nInverse Translationsmatrix TInverse\")\n",
    "print(\"-----------------------------------\")\n",
    "print(TInverse)\n",
    "print(\" --> Proof\")\n",
    "print(TInverseProof)\n",
    "\n",
    "print(\"\\nKontrolle Translationsmatrix * Inverse Translationsmatrix\")\n",
    "print(\"---------------------------------------------------------\")\n",
    "print(Tidentity)\n",
    "print(\" --> Proof\")\n",
    "print(TidentityProof)\n",
    "\n",
    "print(\"\\nNeue Koordinaten P' (mit T)\")\n",
    "print(\"-------------------\")\n",
    "PStrich = np.dot(T,P)\n",
    "print(PStrich)\n",
    "\n",
    "print(\"\\nNeue Koordinaten P' (mit TInverse)\")\n",
    "print(\"-------------------\")\n",
    "PStrich2 = np.dot(TInverse,P)\n",
    "print(PStrich2)"
   ]
  },
  {
   "cell_type": "markdown",
   "metadata": {},
   "source": [
    "## Aufgabe Page 18/55"
   ]
  },
  {
   "cell_type": "code",
   "execution_count": 42,
   "metadata": {},
   "outputs": [
    {
     "data": {
      "text/plain": [
       "array([1, 0, 1, 1])"
      ]
     },
     "execution_count": 42,
     "metadata": {},
     "output_type": "execute_result"
    }
   ],
   "source": [
    "P1 = np.array([0,1,0,1])\n",
    "\n",
    "Rx = np.array([\n",
    "    [1,0,0,0],\n",
    "    [0,0,-1,0],\n",
    "    [0,1,0,0],\n",
    "    [0,0,0,1]\n",
    "])\n",
    "\n",
    "P1Strich = np.dot(Rx,P)\n",
    "P1Strich"
   ]
  },
  {
   "cell_type": "markdown",
   "metadata": {},
   "source": [
    "# Projektive Geometrie - Übung 3"
   ]
  },
  {
   "cell_type": "code",
   "execution_count": 66,
   "metadata": {},
   "outputs": [],
   "source": [
    "import numpy as np\n",
    "import math as math"
   ]
  },
  {
   "cell_type": "markdown",
   "metadata": {},
   "source": [
    "## Aufgabe 1"
   ]
  },
  {
   "cell_type": "code",
   "execution_count": 184,
   "metadata": {},
   "outputs": [
    {
     "name": "stdout",
     "output_type": "stream",
     "text": [
      "[[1 1 1 1 0 0 0 0]\n",
      " [1 1 0 0 1 1 0 0]\n",
      " [1 0 1 0 1 0 1 0]\n",
      " [1 1 1 1 1 1 1 1]]\n",
      "\n",
      "\n",
      "cos(45) = sin(45) = (1/math.sqrt(2))\n",
      "\n",
      "\n",
      "Transformationsmatrix\n",
      "[[ 0.7071  0.      0.7071  0.    ]\n",
      " [ 0.      1.      0.      0.    ]\n",
      " [-0.7071  0.      0.7071  0.    ]\n",
      " [ 0.      0.      0.      1.    ]]\n",
      "\n",
      "\n",
      "[[ 1.4142  0.7071  1.4142  0.7071  0.7071  0.      0.7071  0.    ]\n",
      " [ 1.      1.      0.      0.      1.      1.      0.      0.    ]\n",
      " [ 0.     -0.7071  0.     -0.7071  0.7071  0.      0.7071  0.    ]\n",
      " [ 1.      1.      1.      1.      1.      1.      1.      1.    ]]\n",
      "\n",
      "\n",
      "[[ 1.4142  0.7071  1.4142  0.7071  0.7071  0.      0.7071  0.    ]\n",
      " [ 1.      1.      0.      0.      1.      1.      0.      0.    ]\n",
      " [ 0.     -0.7071  0.     -0.7071  0.7071  0.      0.7071  0.    ]]\n",
      "\n",
      "\n",
      "F = (1, 1, 1)\n",
      "F' = (1.4, 1.0, 0.0)\n",
      "\n",
      "\n",
      "B = (1, 1, 0)\n",
      "B' = (0.7, 1.0, -0.7)\n",
      "\n",
      "\n",
      "E = (1, 0, 1)\n",
      "E' = (1.4, 0.0, 0.0)\n",
      "\n",
      "\n",
      "A = (1, 0, 0)\n",
      "A' = (0.7, 0.0, -0.7)\n",
      "\n",
      "\n",
      "G = (0, 1, 1)\n",
      "G' = (0.7, 1.0, 0.7)\n",
      "\n",
      "\n",
      "C = (0, 1, 0)\n",
      "C' = (0.0, 1.0, 0.0)\n",
      "\n",
      "\n",
      "H = (0, 0, 1)\n",
      "H' = (0.7, 0.0, 0.7)\n",
      "\n",
      "\n",
      "D = (0, 0, 0)\n",
      "D' = (0.0, 0.0, 0.0)\n",
      "\n",
      "\n"
     ]
    }
   ],
   "source": [
    "np.set_printoptions(precision=4)\n",
    "PunkteMatrixHomogen = np.array([\n",
    "    [1,1,1,1,0,0,0,0],\n",
    "    [1,1,0,0,1,1,0,0],\n",
    "    [1,0,1,0,1,0,1,0],\n",
    "    [1,1,1,1,1,1,1,1],\n",
    "])\n",
    "PunkteArray = [\"F\",\"B\",\"E\",\"A\",\"G\",\"C\",\"H\",\"D\"]\n",
    "\n",
    "print(PunkteMatrixHomogen)\n",
    "print(\"\\n\")\n",
    "print(\"cos(45) = sin(45) = (1/math.sqrt(2))\")\n",
    "\n",
    "Transformationsmatrix = np.array([\n",
    "    [(1/math.sqrt(2)),0,(1/math.sqrt(2)),0],\n",
    "    [0,1,0,0],\n",
    "    [(-1/math.sqrt(2)),0,(1/math.sqrt(2)),0],\n",
    "    [0,0,0,1]\n",
    "])\n",
    "\n",
    "print(\"\\n\")\n",
    "print(\"Transformationsmatrix\")\n",
    "x = np.round(Transformationsmatrix, 4)\n",
    "print(x)\n",
    "\n",
    "\n",
    "PunkteMatrixHomogenStrich = np.dot(Transformationsmatrix,PunkteMatrixHomogen)\n",
    "print(\"\\n\")\n",
    "print(PunkteMatrixHomogenStrich)\n",
    "print(\"\\n\")\n",
    "\n",
    "\n",
    "result = np.array([PunkteMatrixHomogenStrich[0] / PunkteMatrixHomogenStrich[3], PunkteMatrixHomogenStrich[1] / PunkteMatrixHomogenStrich[3], PunkteMatrixHomogenStrich[2] / PunkteMatrixHomogenStrich[3]]) \n",
    "print(result)\n",
    "result\n",
    "\n",
    "print(\"\\n\")\n",
    "for i in range(len(PunkteArray)):\n",
    "    print(PunkteArray[i] + \" = (\" + str(PunkteMatrixHomogen[0][i]) + \", \" + str(PunkteMatrixHomogen[1][i]) + \", \" + str(PunkteMatrixHomogen[2][i]) + \")\")\n",
    "    print(PunkteArray[i] + \"' = (\" + str(np.round(result[0][i],1)) + \", \" + str(np.round(result[1][i],1)) + \", \" + str(np.round(result[2][i],1)) + \")\")\n",
    "    print(\"\\n\")"
   ]
  },
  {
   "cell_type": "code",
   "execution_count": null,
   "metadata": {},
   "outputs": [],
   "source": []
  },
  {
   "cell_type": "code",
   "execution_count": null,
   "metadata": {},
   "outputs": [],
   "source": []
  },
  {
   "cell_type": "code",
   "execution_count": null,
   "metadata": {},
   "outputs": [],
   "source": []
  },
  {
   "cell_type": "code",
   "execution_count": null,
   "metadata": {},
   "outputs": [],
   "source": []
  },
  {
   "cell_type": "code",
   "execution_count": null,
   "metadata": {},
   "outputs": [],
   "source": []
  },
  {
   "cell_type": "code",
   "execution_count": null,
   "metadata": {},
   "outputs": [],
   "source": []
  },
  {
   "cell_type": "code",
   "execution_count": null,
   "metadata": {},
   "outputs": [],
   "source": []
  },
  {
   "cell_type": "code",
   "execution_count": null,
   "metadata": {},
   "outputs": [],
   "source": []
  },
  {
   "cell_type": "code",
   "execution_count": null,
   "metadata": {},
   "outputs": [],
   "source": []
  },
  {
   "cell_type": "code",
   "execution_count": null,
   "metadata": {},
   "outputs": [],
   "source": []
  },
  {
   "cell_type": "code",
   "execution_count": null,
   "metadata": {},
   "outputs": [],
   "source": []
  },
  {
   "cell_type": "code",
   "execution_count": null,
   "metadata": {},
   "outputs": [],
   "source": []
  },
  {
   "cell_type": "code",
   "execution_count": null,
   "metadata": {},
   "outputs": [],
   "source": []
  },
  {
   "cell_type": "code",
   "execution_count": null,
   "metadata": {},
   "outputs": [],
   "source": []
  },
  {
   "cell_type": "code",
   "execution_count": null,
   "metadata": {},
   "outputs": [],
   "source": []
  },
  {
   "cell_type": "code",
   "execution_count": null,
   "metadata": {},
   "outputs": [],
   "source": []
  },
  {
   "cell_type": "code",
   "execution_count": null,
   "metadata": {},
   "outputs": [],
   "source": []
  },
  {
   "cell_type": "code",
   "execution_count": null,
   "metadata": {},
   "outputs": [],
   "source": []
  },
  {
   "cell_type": "code",
   "execution_count": null,
   "metadata": {},
   "outputs": [],
   "source": []
  },
  {
   "cell_type": "code",
   "execution_count": null,
   "metadata": {},
   "outputs": [],
   "source": []
  },
  {
   "cell_type": "code",
   "execution_count": null,
   "metadata": {},
   "outputs": [],
   "source": []
  },
  {
   "cell_type": "code",
   "execution_count": null,
   "metadata": {},
   "outputs": [],
   "source": []
  },
  {
   "cell_type": "code",
   "execution_count": null,
   "metadata": {},
   "outputs": [],
   "source": []
  },
  {
   "cell_type": "code",
   "execution_count": null,
   "metadata": {},
   "outputs": [],
   "source": []
  },
  {
   "cell_type": "code",
   "execution_count": null,
   "metadata": {},
   "outputs": [],
   "source": []
  },
  {
   "cell_type": "code",
   "execution_count": 126,
   "metadata": {},
   "outputs": [
    {
     "name": "stdout",
     "output_type": "stream",
     "text": [
      "\n",
      "\n",
      "[[1 2 3 4]\n",
      " [5 6 7 8]\n",
      " [1 1 1 1]]\n",
      "1.0\n",
      "5.0\n",
      "[1. 2. 3. 4.]\n",
      "[5. 6. 7. 8.]\n"
     ]
    }
   ],
   "source": [
    "test = np.array([\n",
    "    [1,2,3,4],\n",
    "    [5,6,7,8],\n",
    "    [1,1,1,1],\n",
    "])\n",
    "\n",
    "print(\"\\n\")\n",
    "print(test)\n",
    "print(test[0][0] / test[2][0])\n",
    "print(test[1][0] / test[2][0])\n",
    "\n",
    "print(test[0] / test[2])\n",
    "print(test[1] / test[2])"
   ]
  },
  {
   "cell_type": "code",
   "execution_count": null,
   "metadata": {},
   "outputs": [],
   "source": []
  },
  {
   "cell_type": "code",
   "execution_count": null,
   "metadata": {},
   "outputs": [],
   "source": []
  },
  {
   "cell_type": "code",
   "execution_count": null,
   "metadata": {},
   "outputs": [],
   "source": []
  },
  {
   "cell_type": "code",
   "execution_count": null,
   "metadata": {},
   "outputs": [],
   "source": []
  },
  {
   "cell_type": "code",
   "execution_count": null,
   "metadata": {},
   "outputs": [],
   "source": []
  },
  {
   "cell_type": "code",
   "execution_count": null,
   "metadata": {},
   "outputs": [],
   "source": []
  },
  {
   "cell_type": "code",
   "execution_count": null,
   "metadata": {},
   "outputs": [],
   "source": []
  },
  {
   "cell_type": "code",
   "execution_count": null,
   "metadata": {},
   "outputs": [],
   "source": []
  },
  {
   "cell_type": "code",
   "execution_count": null,
   "metadata": {},
   "outputs": [],
   "source": []
  },
  {
   "cell_type": "code",
   "execution_count": null,
   "metadata": {},
   "outputs": [],
   "source": []
  }
 ],
 "metadata": {
  "kernelspec": {
   "display_name": "Python 3",
   "language": "python",
   "name": "python3"
  },
  "language_info": {
   "codemirror_mode": {
    "name": "ipython",
    "version": 3
   },
   "file_extension": ".py",
   "mimetype": "text/x-python",
   "name": "python",
   "nbconvert_exporter": "python",
   "pygments_lexer": "ipython3",
   "version": "3.6.4"
  }
 },
 "nbformat": 4,
 "nbformat_minor": 2
}
