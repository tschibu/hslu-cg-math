{
 "cells": [
  {
   "cell_type": "code",
   "execution_count": 7,
   "metadata": {},
   "outputs": [],
   "source": [
    "import numpy as np\n",
    "import math as math"
   ]
  },
  {
   "cell_type": "markdown",
   "metadata": {},
   "source": [
    "# Projektive Geometrie - Teil 3\n",
    "## Aufgabe Page 15/55"
   ]
  },
  {
   "cell_type": "code",
   "execution_count": 8,
   "metadata": {},
   "outputs": [
    {
     "name": "stdout",
     "output_type": "stream",
     "text": [
      "\n",
      "Translationsmatrix T\n",
      "--------------------\n",
      "[[1 0 0 1]\n",
      " [0 1 0 1]\n",
      " [0 0 1 1]\n",
      " [0 0 0 1]]\n",
      "\n",
      "Inverse Translationsmatrix TInverse\n",
      "-----------------------------------\n",
      "[[ 1  0  0 -1]\n",
      " [ 0  1  0 -1]\n",
      " [ 0  0  1 -1]\n",
      " [ 0  0  0  1]]\n",
      " --> Proof\n",
      "[[ 1.  0.  0. -1.]\n",
      " [ 0.  1.  0. -1.]\n",
      " [ 0.  0.  1. -1.]\n",
      " [ 0.  0.  0.  1.]]\n",
      "\n",
      "Kontrolle Translationsmatrix * Inverse Translationsmatrix\n",
      "---------------------------------------------------------\n",
      "[[1 0 0 0]\n",
      " [0 1 0 0]\n",
      " [0 0 1 0]\n",
      " [0 0 0 1]]\n",
      " --> Proof\n",
      "[[1. 0. 0. 0.]\n",
      " [0. 1. 0. 0.]\n",
      " [0. 0. 1. 0.]\n",
      " [0. 0. 0. 1.]]\n",
      "\n",
      "Neue Koordinaten P' (mit T)\n",
      "-------------------\n",
      "[2 2 1 1]\n",
      "\n",
      "Neue Koordinaten P' (mit TInverse)\n",
      "-------------------\n",
      "[ 0  0 -1  1]\n"
     ]
    }
   ],
   "source": [
    "import numpy as np\n",
    "T = np.array([\n",
    "    [1,0,0,1],\n",
    "    [0,1,0,1],\n",
    "    [0,0,1,1],\n",
    "    [0,0,0,1]\n",
    "])\n",
    "TInverse = np.array([\n",
    "    [1,0,0,-1],\n",
    "    [0,1,0,-1],\n",
    "    [0,0,1,-1],\n",
    "    [0,0,0,1]\n",
    "])\n",
    "TInverseProof = np.linalg.inv(T)\n",
    "Tidentity = np.dot(T,TInverse)\n",
    "TidentityProof =np.identity(4)\n",
    "\n",
    "P = np.array([1,1,0,1])\n",
    "\n",
    "print(\"\\nTranslationsmatrix T\")\n",
    "print(\"--------------------\")\n",
    "print(T,)\n",
    "\n",
    "print(\"\\nInverse Translationsmatrix TInverse\")\n",
    "print(\"-----------------------------------\")\n",
    "print(TInverse)\n",
    "print(\" --> Proof\")\n",
    "print(TInverseProof)\n",
    "\n",
    "print(\"\\nKontrolle Translationsmatrix * Inverse Translationsmatrix\")\n",
    "print(\"---------------------------------------------------------\")\n",
    "print(Tidentity)\n",
    "print(\" --> Proof\")\n",
    "print(TidentityProof)\n",
    "\n",
    "print(\"\\nNeue Koordinaten P' (mit T)\")\n",
    "print(\"-------------------\")\n",
    "PStrich = np.dot(T,P)\n",
    "print(PStrich)\n",
    "\n",
    "print(\"\\nNeue Koordinaten P' (mit TInverse)\")\n",
    "print(\"-------------------\")\n",
    "PStrich2 = np.dot(TInverse,P)\n",
    "print(PStrich2)"
   ]
  },
  {
   "cell_type": "markdown",
   "metadata": {},
   "source": [
    "## Aufgabe Page 18/55"
   ]
  },
  {
   "cell_type": "code",
   "execution_count": 9,
   "metadata": {},
   "outputs": [
    {
     "data": {
      "text/plain": [
       "array([1, 0, 1, 1])"
      ]
     },
     "execution_count": 9,
     "metadata": {},
     "output_type": "execute_result"
    }
   ],
   "source": [
    "P1 = np.array([0,1,0,1])\n",
    "\n",
    "Rx = np.array([\n",
    "    [1,0,0,0],\n",
    "    [0,0,-1,0],\n",
    "    [0,1,0,0],\n",
    "    [0,0,0,1]\n",
    "])\n",
    "\n",
    "P1Strich = np.dot(Rx,P)\n",
    "P1Strich"
   ]
  },
  {
   "cell_type": "markdown",
   "metadata": {},
   "source": [
    "## Aufgabe - Python testing"
   ]
  },
  {
   "cell_type": "code",
   "execution_count": 10,
   "metadata": {},
   "outputs": [
    {
     "name": "stdout",
     "output_type": "stream",
     "text": [
      "\n",
      "\n",
      "[[1 2 3 4]\n",
      " [5 6 7 8]\n",
      " [1 1 1 1]]\n",
      "1.0\n",
      "5.0\n",
      "[1. 2. 3. 4.]\n",
      "[5. 6. 7. 8.]\n"
     ]
    }
   ],
   "source": [
    "test = np.array([\n",
    "    [1,2,3,4],\n",
    "    [5,6,7,8],\n",
    "    [1,1,1,1],\n",
    "])\n",
    "\n",
    "print(\"\\n\")\n",
    "print(test)\n",
    "print(test[0][0] / test[2][0])\n",
    "print(test[1][0] / test[2][0])\n",
    "\n",
    "print(test[0] / test[2])\n",
    "print(test[1] / test[2])"
   ]
  },
  {
   "cell_type": "markdown",
   "metadata": {},
   "source": [
    "# Projektive Geometrie - Übung 3\n",
    "## Aufgabe 1"
   ]
  },
  {
   "cell_type": "code",
   "execution_count": 11,
   "metadata": {},
   "outputs": [
    {
     "name": "stdout",
     "output_type": "stream",
     "text": [
      "[[1 1 1 1 0 0 0 0]\n",
      " [1 1 0 0 1 1 0 0]\n",
      " [1 0 1 0 1 0 1 0]\n",
      " [1 1 1 1 1 1 1 1]]\n",
      "\n",
      "\n",
      "cos(45) = sin(45) = (1/math.sqrt(2))\n",
      "\n",
      "\n",
      "Transformationsmatrix\n",
      "[[ 0.7071  0.      0.7071  0.    ]\n",
      " [ 0.      1.      0.      0.    ]\n",
      " [-0.7071  0.      0.7071  0.    ]\n",
      " [ 0.      0.      0.      1.    ]]\n",
      "\n",
      "\n",
      "[[ 1.4142  0.7071  1.4142  0.7071  0.7071  0.      0.7071  0.    ]\n",
      " [ 1.      1.      0.      0.      1.      1.      0.      0.    ]\n",
      " [ 0.     -0.7071  0.     -0.7071  0.7071  0.      0.7071  0.    ]\n",
      " [ 1.      1.      1.      1.      1.      1.      1.      1.    ]]\n",
      "\n",
      "\n",
      "[[ 1.4142  0.7071  1.4142  0.7071  0.7071  0.      0.7071  0.    ]\n",
      " [ 1.      1.      0.      0.      1.      1.      0.      0.    ]\n",
      " [ 0.     -0.7071  0.     -0.7071  0.7071  0.      0.7071  0.    ]]\n",
      "\n",
      "\n",
      "F = (1, 1, 1)\n",
      "F' = (1.4, 1.0, 0.0)\n",
      "\n",
      "\n",
      "B = (1, 1, 0)\n",
      "B' = (0.7, 1.0, -0.7)\n",
      "\n",
      "\n",
      "E = (1, 0, 1)\n",
      "E' = (1.4, 0.0, 0.0)\n",
      "\n",
      "\n",
      "A = (1, 0, 0)\n",
      "A' = (0.7, 0.0, -0.7)\n",
      "\n",
      "\n",
      "G = (0, 1, 1)\n",
      "G' = (0.7, 1.0, 0.7)\n",
      "\n",
      "\n",
      "C = (0, 1, 0)\n",
      "C' = (0.0, 1.0, 0.0)\n",
      "\n",
      "\n",
      "H = (0, 0, 1)\n",
      "H' = (0.7, 0.0, 0.7)\n",
      "\n",
      "\n",
      "D = (0, 0, 0)\n",
      "D' = (0.0, 0.0, 0.0)\n",
      "\n",
      "\n"
     ]
    }
   ],
   "source": [
    "np.set_printoptions(precision=4)\n",
    "PunkteMatrixHomogen = np.array([\n",
    "    [1,1,1,1,0,0,0,0],\n",
    "    [1,1,0,0,1,1,0,0],\n",
    "    [1,0,1,0,1,0,1,0],\n",
    "    [1,1,1,1,1,1,1,1],\n",
    "])\n",
    "PunkteArray = [\"F\",\"B\",\"E\",\"A\",\"G\",\"C\",\"H\",\"D\"]\n",
    "\n",
    "print(PunkteMatrixHomogen)\n",
    "print(\"\\n\")\n",
    "print(\"cos(45) = sin(45) = (1/math.sqrt(2))\")\n",
    "\n",
    "Transformationsmatrix = np.array([\n",
    "    [(1/math.sqrt(2)),0,(1/math.sqrt(2)),0],\n",
    "    [0,1,0,0],\n",
    "    [(-1/math.sqrt(2)),0,(1/math.sqrt(2)),0],\n",
    "    [0,0,0,1]\n",
    "])\n",
    "\n",
    "print(\"\\n\")\n",
    "print(\"Transformationsmatrix\")\n",
    "x = np.round(Transformationsmatrix, 4)\n",
    "print(x)\n",
    "\n",
    "\n",
    "PunkteMatrixHomogenStrich = np.dot(Transformationsmatrix,PunkteMatrixHomogen)\n",
    "print(\"\\n\")\n",
    "print(PunkteMatrixHomogenStrich)\n",
    "print(\"\\n\")\n",
    "\n",
    "\n",
    "result = np.array([PunkteMatrixHomogenStrich[0] / PunkteMatrixHomogenStrich[3], PunkteMatrixHomogenStrich[1] / PunkteMatrixHomogenStrich[3], PunkteMatrixHomogenStrich[2] / PunkteMatrixHomogenStrich[3]]) \n",
    "print(result)\n",
    "result\n",
    "\n",
    "print(\"\\n\")\n",
    "for i in range(len(PunkteArray)):\n",
    "    print(PunkteArray[i] + \" = (\" + str(PunkteMatrixHomogen[0][i]) + \", \" + str(PunkteMatrixHomogen[1][i]) + \", \" + str(PunkteMatrixHomogen[2][i]) + \")\")\n",
    "    print(PunkteArray[i] + \"' = (\" + str(np.round(result[0][i],1)) + \", \" + str(np.round(result[1][i],1)) + \", \" + str(np.round(result[2][i],1)) + \")\")\n",
    "    print(\"\\n\")"
   ]
  },
  {
   "cell_type": "markdown",
   "metadata": {},
   "source": [
    "## Aufgabe 2: Rotation im dreidimensionalen Raum"
   ]
  },
  {
   "cell_type": "code",
   "execution_count": 12,
   "metadata": {},
   "outputs": [
    {
     "name": "stdout",
     "output_type": "stream",
     "text": [
      "[[ 0.6589 -0.1706 -0.7327  0.6823]\n",
      " [-0.1706  0.9147 -0.3663  0.3411]\n",
      " [ 0.7327  0.3663  0.5736 -1.4653]\n",
      " [ 0.      0.      0.      1.    ]]\n"
     ]
    }
   ],
   "source": [
    "T = np.array([\n",
    "    [1,0,0,0],\n",
    "    [0,1,0,-4],\n",
    "    [0,0,1,0],\n",
    "    [0,0,0,1]\n",
    "])\n",
    "TInverse = np.linalg.inv(T)\n",
    "\n",
    "RzPhi = math.atan(4/2)\n",
    "Rz = np.array([\n",
    "    [math.cos(RzPhi),-(math.sin(RzPhi)),0,0],\n",
    "    [math.sin(RzPhi),math.cos(RzPhi),0,0],\n",
    "    [0,0,1,0],\n",
    "    [0,0,0,1]\n",
    "])\n",
    "RzInverse = np.linalg.inv(Rz)\n",
    "\n",
    "RxPhi = 55*(math.pi/180)\n",
    "#print(RxPhi)\n",
    "Rx = np.array([\n",
    "    [1,0,0,0],\n",
    "    [0,math.cos(RxPhi),-(math.sin(RxPhi)),0],\n",
    "    [0,math.sin(RxPhi),math.cos(RxPhi),0],\n",
    "    [0,0,0,1]\n",
    "])\n",
    "\n",
    "D = np.dot(TInverse,np.dot(RzInverse,np.dot(Rx,np.dot(Rz,T))))\n",
    "print(D)"
   ]
  },
  {
   "cell_type": "markdown",
   "metadata": {},
   "source": [
    "## Aufgabe 3: Transformation im dreidimensionalen Raum"
   ]
  },
  {
   "cell_type": "code",
   "execution_count": null,
   "metadata": {},
   "outputs": [],
   "source": []
  }
 ],
 "metadata": {
  "kernelspec": {
   "display_name": "Python 3",
   "language": "python",
   "name": "python3"
  },
  "language_info": {
   "codemirror_mode": {
    "name": "ipython",
    "version": 3
   },
   "file_extension": ".py",
   "mimetype": "text/x-python",
   "name": "python",
   "nbconvert_exporter": "python",
   "pygments_lexer": "ipython3",
   "version": "3.6.4"
  }
 },
 "nbformat": 4,
 "nbformat_minor": 2
}
